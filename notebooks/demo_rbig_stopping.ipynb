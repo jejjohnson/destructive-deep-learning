{
 "cells": [
  {
   "cell_type": "code",
   "execution_count": 2,
   "metadata": {},
   "outputs": [
    {
     "name": "stdout",
     "output_type": "stream",
     "text": [
      "The autoreload extension is already loaded. To reload it, use:\n",
      "  %reload_ext autoreload\n"
     ]
    }
   ],
   "source": [
    "import sys, os\n",
    "os.environ['WANDB_NOTEBOOK_NAME'] = 'rbig_v2'\n",
    "sys.path.append(\"/home/emmanuel/code/destructive-deep-learning\")\n",
    "# sys.path.append(\"/home/emmanuel/notebooks/jaxflows/scripts\")\n",
    "\n",
    "# from data import get_toy_data\n",
    "# from visualize import plot_joint\n",
    "from ddl.datasets import make_toy_data\n",
    "from ddl.univariate import HistogramUnivariateDensity\n",
    "from ddl.independent import (\n",
    "    IndependentInverseCdf,\n",
    "    IndependentDensity,\n",
    "    IndependentDestructor,\n",
    ")\n",
    "from ddl.linear import LinearProjector\n",
    "from ddl.base import CompositeDestructor\n",
    "from ddl.deep import DeepDestructor, DeepDestructorCV\n",
    "from sklearn.decomposition import PCA\n",
    "import tqdm\n",
    "\n",
    "import matplotlib.pyplot as plt\n",
    "import seaborn as sns\n",
    "\n",
    "sns.reset_defaults()\n",
    "sns.set_context(context=\"talk\", font_scale=0.7)\n",
    "\n",
    "%matplotlib inline\n",
    "%load_ext autoreload\n",
    "%autoreload 2"
   ]
  },
  {
   "cell_type": "code",
   "execution_count": 3,
   "metadata": {},
   "outputs": [],
   "source": [
    "# config parameters\n",
    "n_samples = 10_000\n",
    "dataset = \"classic\"\n",
    "bins = \"auto\"  # bin estimation (uses automatric method)\n",
    "bounds = 0.1  # percentage extension of the support\n",
    "alpha = 1e-10  # regularization parameter for hist\n"
   ]
  },
  {
   "cell_type": "markdown",
   "metadata": {},
   "source": [
    "### Data"
   ]
  },
  {
   "cell_type": "code",
   "execution_count": 4,
   "metadata": {},
   "outputs": [],
   "source": [
    "def get_toy_data(n_samples=1000, seed=123):\n",
    "    rng = np.random.RandomState(seed=seed)\n",
    "\n",
    "    x = np.abs(2 * rng.randn(n_samples, 1))\n",
    "    y = np.sin(x) + 0.25 * rng.randn(n_samples, 1)\n",
    "    data = np.hstack((x, y))\n",
    "\n",
    "    return data\n"
   ]
  },
  {
   "cell_type": "markdown",
   "metadata": {},
   "source": [
    "## Plots"
   ]
  },
  {
   "cell_type": "code",
   "execution_count": 5,
   "metadata": {},
   "outputs": [],
   "source": [
    "def plot_joint(\n",
    "    data: np.ndarray, color: str = \"red\", title: str = \"\", kind=\"kde\", logger=None\n",
    "):\n",
    "\n",
    "    plt.figure()\n",
    "    sns.jointplot(x=data[:, 0], y=data[:, 1], kind=kind, color=color)\n",
    "    plt.xlabel(\"X\")\n",
    "    plt.ylabel(\"Y\")\n",
    "    plt.suptitle(title)\n",
    "    plt.tight_layout()\n",
    "    plt.show()"
   ]
  },
  {
   "cell_type": "code",
   "execution_count": 6,
   "metadata": {},
   "outputs": [
    {
     "data": {
      "text/plain": [
       "<Figure size 432x288 with 0 Axes>"
      ]
     },
     "metadata": {},
     "output_type": "display_data"
    },
    {
     "data": {
      "image/png": "[encoded data removed]",
      "text/plain": [
       "<Figure size 432x432 with 3 Axes>"
      ]
     },
     "metadata": {
      "needs_background": "light"
     },
     "output_type": "display_data"
    }
   ],
   "source": [
    "data = get_toy_data(n_samples=n_samples)\n",
    "\n",
    "\n",
    "plot_joint(data, \"blue\", \"Original Data\")"
   ]
  },
  {
   "cell_type": "markdown",
   "metadata": {},
   "source": [
    "## Deep Destructor\n",
    "\n",
    "This is where we put everything in one block and add multiple layers."
   ]
  },
  {
   "cell_type": "code",
   "execution_count": 7,
   "metadata": {},
   "outputs": [
    {
     "name": "stdout",
     "output_type": "stream",
     "text": [
      "CPU times: user 0 ns, sys: 0 ns, total: 0 ns\n",
      "Wall time: 111 µs\n"
     ]
    }
   ],
   "source": [
    "%%time\n",
    "from ddl.deep import DeepDestructorStop\n",
    "# ==================================\n",
    "# Step I - Marginal Uniformization\n",
    "# ==================================\n",
    "# Choose the Histogram estimator that converts the data X to uniform U(0,1)\n",
    "univariate_estimator = HistogramUnivariateDensity(\n",
    "    bounds=0.1, bins=\"auto\", alpha=1e-5\n",
    ")\n",
    "\n",
    "# Marginally uses histogram estimator\n",
    "marginal_uniformization = IndependentDensity(\n",
    "    univariate_estimators=univariate_estimator\n",
    ")\n",
    "\n",
    "# Creates \"Destructor\" D_theta_1\n",
    "uniform_density = IndependentDestructor(marginal_uniformization)\n",
    "\n",
    "# ===================================\n",
    "# Step II - Marginal Gaussianization\n",
    "# ===================================\n",
    "\n",
    "# Choose destructor D_theta_2 that converts data\n",
    "marginal_gaussianization = IndependentInverseCdf()\n",
    "\n",
    "# ======================================\n",
    "# Step III - Rotation\n",
    "# ======================================\n",
    "\n",
    "# Choose a linear projection to rotate the features (PCA) \"D_theta_3\"\n",
    "rotation = LinearProjector(linear_estimator=PCA(random_state=123))\n",
    "\n",
    "# ======================================\n",
    "# All Steps - Deep Density Destructor\n",
    "# ======================================\n",
    "# rbig_block = CompositeDestructor(\n",
    "#     destructors=\n",
    "# )\n",
    "rbig_flow = DeepDestructorStop(\n",
    "    canonical_destructor=[uniform_density, marginal_gaussianization, rotation],\n",
    "    base_dist=\"gaussian\", \n",
    "    tol_layers=15,\n",
    "    threshhold=0.25,\n",
    "    stopping_crit=\"info\",\n",
    ")\n",
    "\n"
   ]
  },
  {
   "cell_type": "code",
   "execution_count": 8,
   "metadata": {},
   "outputs": [
    {
     "name": "stdout",
     "output_type": "stream",
     "text": [
      "CPU times: user 44.2 s, sys: 5.49 s, total: 49.7 s\n",
      "Wall time: 1.83 s\n"
     ]
    }
   ],
   "source": [
    "%%time\n",
    "rbig_flow = DeepDestructorStop(\n",
    "    canonical_destructor=[uniform_density, marginal_gaussianization, rotation],\n",
    "    base_dist=\"gaussian\", \n",
    "    tol_layers=15,\n",
    "    threshhold=0.25,\n",
    "    stopping_crit=\"max\",\n",
    "    max_layers=100\n",
    ")\n",
    "\n",
    "\n",
    "data = get_toy_data(n_samples=10_000, seed=123)\n",
    "\n",
    "# Fit and transform data G_z ----> R (G_z)\n",
    "G_approx = rbig_flow.fit_transform(data)"
   ]
  },
  {
   "cell_type": "code",
   "execution_count": 9,
   "metadata": {},
   "outputs": [
    {
     "data": {
      "text/plain": [
       "100"
      ]
     },
     "execution_count": 9,
     "metadata": {},
     "output_type": "execute_result"
    }
   ],
   "source": [
    "rbig_flow.n_layers"
   ]
  },
  {
   "cell_type": "code",
   "execution_count": 10,
   "metadata": {},
   "outputs": [
    {
     "name": "stdout",
     "output_type": "stream",
     "text": [
      "Negative Log-Likelihood Score: -2.6680\n"
     ]
    }
   ],
   "source": [
    "nll = rbig_flow.score(data)\n",
    "print(f\"Negative Log-Likelihood Score: {nll:.4f}\")"
   ]
  },
  {
   "cell_type": "code",
   "execution_count": 11,
   "metadata": {},
   "outputs": [
    {
     "data": {
      "text/plain": [
       "<Figure size 432x288 with 0 Axes>"
      ]
     },
     "metadata": {},
     "output_type": "display_data"
    },
    {
     "data": {
      "image/png": "[encoded data removed]",
      "text/plain": [
       "<Figure size 432x432 with 3 Axes>"
      ]
     },
     "metadata": {
      "needs_background": "light"
     },
     "output_type": "display_data"
    }
   ],
   "source": [
    "plot_joint(G_approx, \"red\", title=f\"Gaussianization, n={rbig_flow.n_layers}\")"
   ]
  },
  {
   "cell_type": "markdown",
   "metadata": {},
   "source": [
    "## Loss - $\\Delta$ Total Correlation"
   ]
  },
  {
   "cell_type": "code",
   "execution_count": 12,
   "metadata": {},
   "outputs": [
    {
     "data": {
      "text/plain": [
       "[<matplotlib.lines.Line2D at 0x7fe1c0731b20>]"
      ]
     },
     "execution_count": 12,
     "metadata": {},
     "output_type": "execute_result"
    },
    {
     "data": {
      "image/png": "[encoded data removed]",
      "text/plain": [
       "<Figure size 432x288 with 1 Axes>"
      ]
     },
     "metadata": {
      "needs_background": "light"
     },
     "output_type": "display_data"
    }
   ],
   "source": [
    "plt.plot(rbig_flow.loss)"
   ]
  },
  {
   "cell_type": "markdown",
   "metadata": {},
   "source": [
    "### Negative Log-Likelihood"
   ]
  },
  {
   "cell_type": "code",
   "execution_count": 13,
   "metadata": {},
   "outputs": [],
   "source": [
    "from ddl.stopping import negative_log_likelihood"
   ]
  },
  {
   "cell_type": "code",
   "execution_count": 14,
   "metadata": {},
   "outputs": [],
   "source": [
    "rbig_flow.fit(data)\n",
    "\n",
    "Z = data.copy()\n",
    "\n",
    "nll_loss = []\n",
    "nongauss_loss = []\n",
    "\n",
    "X_ldj = np.zeros(Z.shape[0])\n",
    "for i, iblock in enumerate(rbig_flow.fitted_destructors_):\n",
    "    \n",
    "    \n",
    "    Z = iblock.transform(Z)\n",
    "        \n",
    "    # calculate the negative log-likelihood\n",
    "    if (i+1) % 3 == 0:\n",
    "        \n",
    "#         plot_joint(Z, \"red\", title=f\"Gaussianization, n={(i+1)//3}\")\n",
    "        # add nll_loss\n",
    "        X_ldj = iblock.score_samples(Z)\n",
    "        nll_loss.append(negative_log_likelihood(Z, X_ldj[:, np.newaxis]))\n"
   ]
  },
  {
   "cell_type": "code",
   "execution_count": 15,
   "metadata": {},
   "outputs": [
    {
     "data": {
      "text/plain": [
       "[<matplotlib.lines.Line2D at 0x7fe1c07a4400>]"
      ]
     },
     "execution_count": 15,
     "metadata": {},
     "output_type": "execute_result"
    },
    {
     "data": {
      "image/png": "[encoded data removed]",
      "text/plain": [
       "<Figure size 432x288 with 1 Axes>"
      ]
     },
     "metadata": {
      "needs_background": "light"
     },
     "output_type": "display_data"
    }
   ],
   "source": [
    "plt.plot(nll_loss)"
   ]
  },
  {
   "cell_type": "markdown",
   "metadata": {},
   "source": [
    "### Non-Gaussianity"
   ]
  },
  {
   "cell_type": "code",
   "execution_count": 16,
   "metadata": {},
   "outputs": [],
   "source": [
    "from ddl.stopping import diff_negentropy\n",
    "from functools import partial"
   ]
  },
  {
   "cell_type": "code",
   "execution_count": 17,
   "metadata": {},
   "outputs": [
    {
     "name": "stdout",
     "output_type": "stream",
     "text": [
      "CPU times: user 19.5 s, sys: 2.4 s, total: 21.9 s\n",
      "Wall time: 835 ms\n"
     ]
    }
   ],
   "source": [
    "%%time\n",
    "rbig_flow = DeepDestructorStop(\n",
    "    canonical_destructor=[uniform_density, marginal_gaussianization, rotation],\n",
    "    base_dist=\"uniform\", \n",
    "    tol_layers=15,\n",
    "    threshhold=0.25,\n",
    "    stopping_crit=\"info\"\n",
    ")\n",
    "\n",
    "\n",
    "\n",
    "rbig_flow.fit(data)\n",
    "\n",
    "Z = data.copy()\n",
    "\n",
    "nongauss_loss = []\n",
    "\n",
    "X_ldj = np.zeros(Z.shape[0])\n",
    "for i, iblock in enumerate(rbig_flow.fitted_destructors_):\n",
    "    f = partial(diff_negentropy, Z=Z)\n",
    "    \n",
    "    \n",
    "    Z = iblock.transform(Z)\n",
    "    \n",
    "        \n",
    "    # calculate the negative log-likelihood\n",
    "    if (i+1) % 3 == 0:\n",
    "        \n",
    "        # calculate the logdetjacobian of transformation\n",
    "        X_ldj += iblock.score_samples(Z)\n",
    "        # add non-Gaussianity\n",
    "        nongauss_loss.append(f(X=Z, X_slogdet=X_ldj[:, np.newaxis]))\n",
    "        \n",
    "    f = partial(diff_negentropy, Z=Z)"
   ]
  },
  {
   "cell_type": "code",
   "execution_count": 105,
   "metadata": {},
   "outputs": [
    {
     "data": {
      "text/plain": [
       "[<matplotlib.lines.Line2D at 0x7f7ed8197b80>]"
      ]
     },
     "execution_count": 105,
     "metadata": {},
     "output_type": "execute_result"
    },
    {
     "data": {
      "image/png": "[encoded data removed]",
      "text/plain": [
       "<Figure size 432x288 with 1 Axes>"
      ]
     },
     "metadata": {
      "needs_background": "light"
     },
     "output_type": "display_data"
    }
   ],
   "source": [
    "plt.plot(nongauss_loss)"
   ]
  }
 ],
 "metadata": {
  "kernelspec": {
   "display_name": "Python [conda env:.conda-pyddd]",
   "language": "python",
   "name": "conda-env-.conda-pyddd-py"
  },
  "language_info": {
   "codemirror_mode": {
    "name": "ipython",
    "version": 3
   },
   "file_extension": ".py",
   "mimetype": "text/x-python",
   "name": "python",
   "nbconvert_exporter": "python",
   "pygments_lexer": "ipython3",
   "version": "3.8.5"
  }
 },
 "nbformat": 4,
 "nbformat_minor": 4
}
